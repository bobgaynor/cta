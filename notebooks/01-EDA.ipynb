{
 "cells": [
  {
   "cell_type": "markdown",
   "id": "15cdbbba",
   "metadata": {},
   "source": [
    "# Cyber Threat Analyzer (CTA) - Part 1: Parsing\n",
    "\n",
    "This notebook details the process of ingesting and parsing a raw, unstructured system log into a clean Pandas DataFrame."
   ]
  },
  {
   "cell_type": "code",
   "execution_count": 4,
   "id": "422ad069",
   "metadata": {},
   "outputs": [
    {
     "name": "stdout",
     "output_type": "stream",
     "text": [
      "Import Complete\n"
     ]
    }
   ],
   "source": [
    "import pandas as pd\n",
    "from pathlib import Path\n",
    "import re\n",
    "\n",
    "print(\"Import Complete\")"
   ]
  },
  {
   "cell_type": "markdown",
   "id": "2fc1da6f",
   "metadata": {},
   "source": [
    "## Step 1: Parsing the Log File\n",
    "\n",
    "The log files have a custom format: TIMESTAMP [LOG_LEVEL] MESSAGE. A simple pd.read_csv won't work. We need to build a custom Regular Expression (regex) to match this pattern and extract the three key pieces of information."
   ]
  },
  {
   "cell_type": "code",
   "execution_count": 5,
   "id": "eee33fd2",
   "metadata": {},
   "outputs": [
    {
     "name": "stdout",
     "output_type": "stream",
     "text": [
      "--- CTA Parser finished. Found 8 log entries. ---\n"
     ]
    }
   ],
   "source": [
    "# Define the 'regex' for a single log line telling Python *exactly* what pattern to look for.\n",
    "#\n",
    "#    ^         # Start of the line\n",
    "#    (\\S+)     # Capture Group 1: One or more non-space characters (the timestamp)\n",
    "#    \\s+       # Match one or more spaces (the gap after the timestamp)\n",
    "#    \\[        # Match a literal opening bracket '['\n",
    "#    (\\w+)     # Capture Group 2: One or more \"word\" characters (the log level)\n",
    "#    \\]        # Match a literal closing bracket ']'\n",
    "#    \\s+       # Match one or more spaces (the gap after the log level)\n",
    "#    (.*)      # Capture Group 3: \"Capture everything else\" (the message)\n",
    "#    $         # End of the line\n",
    "#\n",
    "log_pattern = re.compile(r'^(\\S+)\\s+\\[(\\w+)\\]\\s+(.*)$')\n",
    "\n",
    "# Define the path to the log file using the 'pathlib' library.\n",
    "log_file_path = Path.cwd().parent / \"data\" / \"system.log\"\n",
    "\n",
    "# Create empty list to store structured data\n",
    "data = []\n",
    "\n",
    "# Open the log file and loop through it, line by line\n",
    "with open(log_file_path, 'r') as f:\n",
    "    for line in f:\n",
    "        # Try to match regex \"formula\" to the current line\n",
    "        match = log_pattern.match(line)\n",
    "        \n",
    "        # If the line matched our pattern, extract the captured groups\n",
    "        if match:\n",
    "            data.append({\n",
    "                'timestamp': match.group(1),\n",
    "                'log_level': match.group(2),\n",
    "                'message': match.group(3).strip()\n",
    "            })\n",
    "\n",
    "# Create Pandas DataFrame from the list of dictionaries\n",
    "df = pd.DataFrame(data)\n",
    "\n",
    "print(f\"--- CTA Parser finished. Found {len(data)} log entries. ---\")"
   ]
  },
  {
   "cell_type": "markdown",
   "id": "3a5aa289",
   "metadata": {},
   "source": [
    "## Step 2: Verify the DataFrame\n",
    "\n",
    "Let's use df.head() to check the first 5 rows and confirm the parser worked as expected."
   ]
  },
  {
   "cell_type": "code",
   "execution_count": 6,
   "id": "3474cbfb",
   "metadata": {},
   "outputs": [
    {
     "data": {
      "text/html": [
       "<div>\n",
       "<style scoped>\n",
       "    .dataframe tbody tr th:only-of-type {\n",
       "        vertical-align: middle;\n",
       "    }\n",
       "\n",
       "    .dataframe tbody tr th {\n",
       "        vertical-align: top;\n",
       "    }\n",
       "\n",
       "    .dataframe thead th {\n",
       "        text-align: right;\n",
       "    }\n",
       "</style>\n",
       "<table border=\"1\" class=\"dataframe\">\n",
       "  <thead>\n",
       "    <tr style=\"text-align: right;\">\n",
       "      <th></th>\n",
       "      <th>timestamp</th>\n",
       "      <th>log_level</th>\n",
       "      <th>message</th>\n",
       "    </tr>\n",
       "  </thead>\n",
       "  <tbody>\n",
       "    <tr>\n",
       "      <th>0</th>\n",
       "      <td>2023-10-27T14:01:03</td>\n",
       "      <td>INFO</td>\n",
       "      <td>System startup complete.</td>\n",
       "    </tr>\n",
       "    <tr>\n",
       "      <th>1</th>\n",
       "      <td>2023-10-27T14:02:15</td>\n",
       "      <td>INFO</td>\n",
       "      <td>User 'admin' logged in from 192.168.1.100</td>\n",
       "    </tr>\n",
       "    <tr>\n",
       "      <th>2</th>\n",
       "      <td>2023-10-27T14:02:45</td>\n",
       "      <td>WARNING</td>\n",
       "      <td>Disk space low on /var. 85% used.</td>\n",
       "    </tr>\n",
       "    <tr>\n",
       "      <th>3</th>\n",
       "      <td>2023-10-27T14:03:10</td>\n",
       "      <td>ERROR</td>\n",
       "      <td>Failed to connect to database [db-01]. IP 10.0...</td>\n",
       "    </tr>\n",
       "    <tr>\n",
       "      <th>4</th>\n",
       "      <td>2023-10-27T14:03:12</td>\n",
       "      <td>INFO</td>\n",
       "      <td>Retrying connection...</td>\n",
       "    </tr>\n",
       "  </tbody>\n",
       "</table>\n",
       "</div>"
      ],
      "text/plain": [
       "             timestamp log_level  \\\n",
       "0  2023-10-27T14:01:03      INFO   \n",
       "1  2023-10-27T14:02:15      INFO   \n",
       "2  2023-10-27T14:02:45   WARNING   \n",
       "3  2023-10-27T14:03:10     ERROR   \n",
       "4  2023-10-27T14:03:12      INFO   \n",
       "\n",
       "                                             message  \n",
       "0                           System startup complete.  \n",
       "1          User 'admin' logged in from 192.168.1.100  \n",
       "2                  Disk space low on /var. 85% used.  \n",
       "3  Failed to connect to database [db-01]. IP 10.0...  \n",
       "4                             Retrying connection...  "
      ]
     },
     "execution_count": 6,
     "metadata": {},
     "output_type": "execute_result"
    }
   ],
   "source": [
    "df.head()"
   ]
  },
  {
   "cell_type": "markdown",
   "id": "12022f32",
   "metadata": {},
   "source": [
    "## Next Steps\n",
    "\n",
    "Now that we have clean data, the next step is to enrich it by calling the AbuseIPDB API..."
   ]
  },
  {
   "cell_type": "code",
   "execution_count": 8,
   "id": "ac71162d",
   "metadata": {},
   "outputs": [
    {
     "name": "stdout",
     "output_type": "stream",
     "text": [
      "✅ Success! API Key loaded successfully from .env file.\n"
     ]
    }
   ],
   "source": [
    "import os\n",
    "from dotenv import load_dotenv # Import the new library\n",
    "\n",
    "# This line automatically finds the .env file in your project's root\n",
    "# and loads the variables found inside it into your environment\n",
    "# for this specific notebook session.\n",
    "load_dotenv()\n",
    "\n",
    "# Now, the standard os.environ.get() should find the key!\n",
    "api_key = os.environ.get('ABUSEIPDB_KEY')\n",
    "\n",
    "if api_key:\n",
    "    print(\"✅ Success! API Key loaded successfully from .env file.\")\n",
    "    # Optional: Verify the key looks right\n",
    "    # print(f\"   Key starts with: {api_key[:5]}... and ends with: {api_key[-5:]}\")\n",
    "else:\n",
    "    print(\"❌ Error: API Key not found.\")\n",
    "    print(\"   1. Did you create the `.env` file in the 'cta' root folder?\")\n",
    "    print(\"   2. Does the `.env` file contain 'ABUSEIPDB_KEY=your-key'?\")\n",
    "    print(\"   3. Did you install 'python-dotenv' (`pip install python-dotenv`)?\")\n",
    "    print(\"   4. Did you run the `load_dotenv()` command in this cell?\")"
   ]
  },
  {
   "cell_type": "code",
   "execution_count": 9,
   "id": "7887e9fc",
   "metadata": {},
   "outputs": [
    {
     "name": "stdout",
     "output_type": "stream",
     "text": [
      "Checking IP: 1.2.3.4...\n",
      "\n",
      "--- API Report Received ---\n",
      "  IP Address: 1.2.3.4\n",
      "  Country: AU\n",
      "  Abuse Score: 39%\n",
      "  Total Reports: 38\n",
      "  ISP: APNIC Debogon Project\n"
     ]
    }
   ],
   "source": [
    "import os\n",
    "import requests\n",
    "import json # To pretty-print the result\n",
    "from dotenv import load_dotenv\n",
    "\n",
    "# --- 1. Load the API Key (using dotenv) ---\n",
    "load_dotenv()\n",
    "api_key = os.environ.get('ABUSEIPDB_KEY')\n",
    "\n",
    "# --- 2. Define the Function to Check an IP ---\n",
    "def check_ip(ip_address, key):\n",
    "    \"\"\"\n",
    "    Calls the AbuseIPDB API to check a given IP address.\n",
    "    Returns the JSON response from the API.\n",
    "    \"\"\"\n",
    "    if not key:\n",
    "        print(\"API Key not loaded. Cannot check IP.\")\n",
    "        return None # Return nothing if the key isn't loaded\n",
    "\n",
    "    # Define the API endpoint and parameters\n",
    "    url = 'https://api.abuseipdb.com/api/v2/check'\n",
    "    params = {\n",
    "        'ipAddress': ip_address,\n",
    "        'maxAgeInDays': '90', # How far back to look for reports\n",
    "        'verbose': True # Ask for more details if available\n",
    "    }\n",
    "    headers = {\n",
    "        'Accept': 'application/json',\n",
    "        'Key': key\n",
    "    }\n",
    "\n",
    "    print(f\"Checking IP: {ip_address}...\")\n",
    "    try:\n",
    "        response = requests.get(url=url, headers=headers, params=params)\n",
    "        response.raise_for_status() # Raise an error for bad status codes (4xx or 5xx)\n",
    "\n",
    "        # If successful, parse the JSON response\n",
    "        report = response.json()\n",
    "        return report['data'] # Return just the 'data' part of the response\n",
    "\n",
    "    except requests.exceptions.RequestException as e:\n",
    "        print(f\"  Error during API request: {e}\")\n",
    "        return None\n",
    "    except Exception as e:\n",
    "        print(f\"  An unexpected error occurred: {e}\")\n",
    "        return None\n",
    "\n",
    "# --- 3. Test the function with a known bad IP ---\n",
    "test_ip = '1.2.3.4' # A commonly reported IP for testing\n",
    "if api_key:\n",
    "    ip_data = check_ip(test_ip, api_key)\n",
    "\n",
    "    # --- 4. Print the results nicely ---\n",
    "    if ip_data:\n",
    "        print(\"\\n--- API Report Received ---\")\n",
    "        print(f\"  IP Address: {ip_data.get('ipAddress')}\")\n",
    "        print(f\"  Country: {ip_data.get('countryCode')}\")\n",
    "        print(f\"  Abuse Score: {ip_data.get('abuseConfidenceScore')}%\")\n",
    "        print(f\"  Total Reports: {ip_data.get('totalReports')}\")\n",
    "        print(f\"  ISP: {ip_data.get('isp')}\")\n",
    "        # print(\"\\nFull Report:\") # Uncomment to see everything\n",
    "        # print(json.dumps(ip_data, indent=2))\n",
    "    else:\n",
    "        print(\"\\n--- Failed to get API report ---\")\n",
    "else:\n",
    "    print(\"API Key not loaded, skipping test.\")"
   ]
  },
  {
   "cell_type": "code",
   "execution_count": 10,
   "id": "3e6713f7",
   "metadata": {},
   "outputs": [],
   "source": [
    "import re\n",
    "\n",
    "def extract_ip(message):\n",
    "    \"\"\"\n",
    "    Uses regex to find the first IPv4 address in a string.\n",
    "    Returns the IP address string if found, otherwise None.\n",
    "    \"\"\"\n",
    "    # Regex pattern for an IPv4 address\n",
    "    # \\b matches word boundaries to avoid partial matches\n",
    "    # (?:\\d{1,3}\\.){3} matches three groups of (1-3 digits followed by a dot)\n",
    "    # \\d{1,3} matches the final 1-3 digits\n",
    "    ip_pattern = r'\\b(?:\\d{1,3}\\.){3}\\d{1,3}\\b'\n",
    "\n",
    "    match = re.search(ip_pattern, message) # Find the first match in the message\n",
    "\n",
    "    if match:\n",
    "        return match.group(0) # Return the matched IP string\n",
    "    else:\n",
    "        return None # Return None if no IP was found"
   ]
  },
  {
   "cell_type": "code",
   "execution_count": 11,
   "id": "0060243a",
   "metadata": {},
   "outputs": [
    {
     "name": "stdout",
     "output_type": "stream",
     "text": [
      "IP found in first message: 1.2.3.4\n",
      "IP found in second message: None\n"
     ]
    }
   ],
   "source": [
    "# Test cases\n",
    "test_message_with_ip = \"Failed login for user 'root' from IP 1.2.3.4\"\n",
    "test_message_no_ip = \"System startup complete.\"\n",
    "\n",
    "# Run the function\n",
    "found_ip = extract_ip(test_message_with_ip)\n",
    "no_ip = extract_ip(test_message_no_ip)\n",
    "\n",
    "print(f\"IP found in first message: {found_ip}\")\n",
    "print(f\"IP found in second message: {no_ip}\")"
   ]
  },
  {
   "cell_type": "code",
   "execution_count": 12,
   "id": "a736b7a5",
   "metadata": {},
   "outputs": [
    {
     "name": "stdout",
     "output_type": "stream",
     "text": [
      "Created 'ip_address' column.\n"
     ]
    },
    {
     "data": {
      "text/html": [
       "<div>\n",
       "<style scoped>\n",
       "    .dataframe tbody tr th:only-of-type {\n",
       "        vertical-align: middle;\n",
       "    }\n",
       "\n",
       "    .dataframe tbody tr th {\n",
       "        vertical-align: top;\n",
       "    }\n",
       "\n",
       "    .dataframe thead th {\n",
       "        text-align: right;\n",
       "    }\n",
       "</style>\n",
       "<table border=\"1\" class=\"dataframe\">\n",
       "  <thead>\n",
       "    <tr style=\"text-align: right;\">\n",
       "      <th></th>\n",
       "      <th>timestamp</th>\n",
       "      <th>log_level</th>\n",
       "      <th>message</th>\n",
       "      <th>ip_address</th>\n",
       "    </tr>\n",
       "  </thead>\n",
       "  <tbody>\n",
       "    <tr>\n",
       "      <th>0</th>\n",
       "      <td>2023-10-27T14:01:03</td>\n",
       "      <td>INFO</td>\n",
       "      <td>System startup complete.</td>\n",
       "      <td>None</td>\n",
       "    </tr>\n",
       "    <tr>\n",
       "      <th>1</th>\n",
       "      <td>2023-10-27T14:02:15</td>\n",
       "      <td>INFO</td>\n",
       "      <td>User 'admin' logged in from 192.168.1.100</td>\n",
       "      <td>192.168.1.100</td>\n",
       "    </tr>\n",
       "    <tr>\n",
       "      <th>2</th>\n",
       "      <td>2023-10-27T14:02:45</td>\n",
       "      <td>WARNING</td>\n",
       "      <td>Disk space low on /var. 85% used.</td>\n",
       "      <td>None</td>\n",
       "    </tr>\n",
       "    <tr>\n",
       "      <th>3</th>\n",
       "      <td>2023-10-27T14:03:10</td>\n",
       "      <td>ERROR</td>\n",
       "      <td>Failed to connect to database [db-01]. IP 10.0...</td>\n",
       "      <td>10.0.0.5</td>\n",
       "    </tr>\n",
       "    <tr>\n",
       "      <th>4</th>\n",
       "      <td>2023-10-27T14:03:12</td>\n",
       "      <td>INFO</td>\n",
       "      <td>Retrying connection...</td>\n",
       "      <td>None</td>\n",
       "    </tr>\n",
       "    <tr>\n",
       "      <th>5</th>\n",
       "      <td>2023-10-27T14:03:42</td>\n",
       "      <td>ERROR</td>\n",
       "      <td>Connection to [db-01] timed out. IP 10.0.0.5</td>\n",
       "      <td>10.0.0.5</td>\n",
       "    </tr>\n",
       "    <tr>\n",
       "      <th>6</th>\n",
       "      <td>2023-10-27T14:05:01</td>\n",
       "      <td>ERROR</td>\n",
       "      <td>Failed login for user 'root' from IP 1.2.3.4</td>\n",
       "      <td>1.2.3.4</td>\n",
       "    </tr>\n",
       "    <tr>\n",
       "      <th>7</th>\n",
       "      <td>2023-10-27T14:05:02</td>\n",
       "      <td>ERROR</td>\n",
       "      <td>Failed login for user 'guest' from IP 99.88.77.66</td>\n",
       "      <td>99.88.77.66</td>\n",
       "    </tr>\n",
       "  </tbody>\n",
       "</table>\n",
       "</div>"
      ],
      "text/plain": [
       "             timestamp log_level  \\\n",
       "0  2023-10-27T14:01:03      INFO   \n",
       "1  2023-10-27T14:02:15      INFO   \n",
       "2  2023-10-27T14:02:45   WARNING   \n",
       "3  2023-10-27T14:03:10     ERROR   \n",
       "4  2023-10-27T14:03:12      INFO   \n",
       "5  2023-10-27T14:03:42     ERROR   \n",
       "6  2023-10-27T14:05:01     ERROR   \n",
       "7  2023-10-27T14:05:02     ERROR   \n",
       "\n",
       "                                             message     ip_address  \n",
       "0                           System startup complete.           None  \n",
       "1          User 'admin' logged in from 192.168.1.100  192.168.1.100  \n",
       "2                  Disk space low on /var. 85% used.           None  \n",
       "3  Failed to connect to database [db-01]. IP 10.0...       10.0.0.5  \n",
       "4                             Retrying connection...           None  \n",
       "5       Connection to [db-01] timed out. IP 10.0.0.5       10.0.0.5  \n",
       "6       Failed login for user 'root' from IP 1.2.3.4        1.2.3.4  \n",
       "7  Failed login for user 'guest' from IP 99.88.77.66    99.88.77.66  "
      ]
     },
     "execution_count": 12,
     "metadata": {},
     "output_type": "execute_result"
    }
   ],
   "source": [
    "# Create the new 'ip_address' column\n",
    "# The 'lambda x:' part passes each message ('x') into our function.\n",
    "df['ip_address'] = df['message'].apply(lambda x: extract_ip(x))\n",
    "\n",
    "print(\"Created 'ip_address' column.\")\n",
    "\n",
    "# Display the DataFrame to see the new column!\n",
    "df.head(10) # Show more rows to potentially see IPs and None values"
   ]
  },
  {
   "cell_type": "code",
   "execution_count": null,
   "id": "535200b0",
   "metadata": {},
   "outputs": [],
   "source": []
  }
 ],
 "metadata": {
  "kernelspec": {
   "display_name": "cta_env",
   "language": "python",
   "name": "python3"
  },
  "language_info": {
   "codemirror_mode": {
    "name": "ipython",
    "version": 3
   },
   "file_extension": ".py",
   "mimetype": "text/x-python",
   "name": "python",
   "nbconvert_exporter": "python",
   "pygments_lexer": "ipython3",
   "version": "3.10.19"
  }
 },
 "nbformat": 4,
 "nbformat_minor": 5
}
