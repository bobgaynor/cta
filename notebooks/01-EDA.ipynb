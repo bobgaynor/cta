{
 "cells": [
  {
   "cell_type": "markdown",
   "id": "15cdbbba",
   "metadata": {},
   "source": [
    "# Cyber Threat Analyzer (CTA) - Part 1: Finding the Signal in the Noise\n",
    "\n",
    "**Goal:** Ingest raw system log data, parse it into a structured format using Pandas and Regex, enrich it with threat intelligence from the AbuseIPDB API, and prepare it for exploratory data analysis (EDA).\n",
    "\n",
    "### The \"Why\"\n",
    "Raw log files are 99% routine system chatter or what we'll call \"audio static\". Hidden inside that noise is the 1% that truly matters: the \"signal.\" This signal is our actionable intelligence - the failed logins, the weird connections, the real threats. The purpose of this notebook is to build the automatic noise filter. We'll use data engineering to turn that \"wall of noise\" into a clean, actionable signal, building the foundation for our ML model."
   ]
  },
  {
   "cell_type": "code",
   "execution_count": 1,
   "id": "422ad069",
   "metadata": {},
   "outputs": [
    {
     "name": "stdout",
     "output_type": "stream",
     "text": [
      "Import Complete\n"
     ]
    }
   ],
   "source": [
    "# This is the core library for building\n",
    "# our data table (DataFrame).\n",
    "import pandas as pd\n",
    "\n",
    "# Pathlib makes it easy to build paths that work\n",
    "# on multiple operating systems.\n",
    "from pathlib import Path\n",
    "\n",
    "# The Regular Expression library. This \"pattern-matcher\"\n",
    "# will extract actionable data from the noise.\n",
    "import re\n",
    "\n",
    "print(\"Import Complete\")"
   ]
  },
  {
   "cell_type": "markdown",
   "id": "2fc1da6f",
   "metadata": {},
   "source": [
    "## Step 1: Parse Raw Log File\n",
    "\n",
    "### The \"Why\"\n",
    "Our `system.log` file is just a wall of unstructured text.\n",
    "\n",
    "### The \"How\"\n",
    "Our goal is to use a **Regular Expression (regex)** to tell Python exactly how to read each line and find three specific pieces:\n",
    "\n",
    "1.  The `TIMESTAMP`\n",
    "2.  The `[LOG_LEVEL]`\n",
    "3.  The `MESSAGE`\n",
    "\n",
    "We'll extract these pieces, put them into a list, and then load that list into a clean, structured Pandas DataFrame. This is the \"Extract\" and \"Transform\" part of our ETL pipeline."
   ]
  },
  {
   "cell_type": "code",
   "execution_count": 13,
   "id": "eee33fd2",
   "metadata": {},
   "outputs": [
    {
     "name": "stdout",
     "output_type": "stream",
     "text": [
      "--- CTA Parser finished. Found 8 log entries. ---\n"
     ]
    }
   ],
   "source": [
    "# Define the 'regex' for a single log line telling Python *exactly* what pattern to look for.\n",
    "#\n",
    "#    ^         # Start of the line\n",
    "#    (\\S+)     # Capture Group 1: One or more non-space characters (the timestamp)\n",
    "#    \\s+       # Match one or more spaces (the gap after the timestamp)\n",
    "#    \\[        # Match a literal opening bracket '['\n",
    "#    (\\w+)     # Capture Group 2: One or more \"word\" characters (the log level)\n",
    "#    \\]        # Match a literal closing bracket ']'\n",
    "#    \\s+       # Match one or more spaces (the gap after the log level)\n",
    "#    (.*)      # Capture Group 3: \"Capture everything else\" (the message)\n",
    "#    $         # End of the line\n",
    "#\n",
    "log_pattern = re.compile(r'^(\\S+)\\s+\\[(\\w+)\\]\\s+(.*)$')\n",
    "\n",
    "# Define the path to the log file using the 'pathlib' library.\n",
    "log_file_path = Path.cwd().parent / \"data\" / \"system.log\"\n",
    "\n",
    "# Create empty list to store structured data\n",
    "data = []\n",
    "\n",
    "# Open the log file and loop through it, line by line\n",
    "with open(log_file_path, 'r') as f:\n",
    "    for line in f:\n",
    "        # Try to match regex \"formula\" to the current line\n",
    "        match = log_pattern.match(line)\n",
    "        \n",
    "        # If the line matched our pattern, extract the captured groups\n",
    "        if match:\n",
    "            data.append({\n",
    "                'timestamp': match.group(1),\n",
    "                'log_level': match.group(2),\n",
    "                'message': match.group(3).strip()\n",
    "            })\n",
    "\n",
    "# Create Pandas DataFrame from the list of dictionaries\n",
    "df = pd.DataFrame(data)\n",
    "\n",
    "print(f\"--- CTA Parser finished. Found {len(data)} log entries. ---\")"
   ]
  },
  {
   "cell_type": "markdown",
   "id": "3a5aa289",
   "metadata": {},
   "source": [
    "### Verify Initial Parsing\n",
    "\n",
    "Let's display the first few rows using `df.head()` to ensure the regex worked correctly and we have our initial `timestamp`, `log_level`, and `message` columns."
   ]
  },
  {
   "cell_type": "code",
   "execution_count": 3,
   "id": "3474cbfb",
   "metadata": {},
   "outputs": [
    {
     "data": {
      "text/html": [
       "<div>\n",
       "<style scoped>\n",
       "    .dataframe tbody tr th:only-of-type {\n",
       "        vertical-align: middle;\n",
       "    }\n",
       "\n",
       "    .dataframe tbody tr th {\n",
       "        vertical-align: top;\n",
       "    }\n",
       "\n",
       "    .dataframe thead th {\n",
       "        text-align: right;\n",
       "    }\n",
       "</style>\n",
       "<table border=\"1\" class=\"dataframe\">\n",
       "  <thead>\n",
       "    <tr style=\"text-align: right;\">\n",
       "      <th></th>\n",
       "    </tr>\n",
       "  </thead>\n",
       "  <tbody>\n",
       "  </tbody>\n",
       "</table>\n",
       "</div>"
      ],
      "text/plain": [
       "Empty DataFrame\n",
       "Columns: []\n",
       "Index: []"
      ]
     },
     "execution_count": 3,
     "metadata": {},
     "output_type": "execute_result"
    }
   ],
   "source": [
    "df.head()"
   ]
  },
  {
   "cell_type": "markdown",
   "id": "12022f32",
   "metadata": {},
   "source": [
    "## Step 2: Load API Key Securely\n",
    "\n",
    "We need our AbuseIPDB API key to enrich the data. We load it securely from a `.env` file using the `python-dotenv` library. This keeps the key out of our code and off GitHub."
   ]
  },
  {
   "cell_type": "code",
   "execution_count": 4,
   "id": "ac71162d",
   "metadata": {},
   "outputs": [
    {
     "name": "stdout",
     "output_type": "stream",
     "text": [
      "✅ Success! API Key loaded successfully from .env file.\n"
     ]
    }
   ],
   "source": [
    "import os\n",
    "from dotenv import load_dotenv # Import the new library\n",
    "\n",
    "# This line automatically finds the .env file in your project's root\n",
    "# and loads the variables found inside it into your environment\n",
    "# for this specific notebook session.\n",
    "load_dotenv()\n",
    "\n",
    "# Now, the standard os.environ.get() should find the key!\n",
    "api_key = os.environ.get('ABUSEIPDB_KEY')\n",
    "\n",
    "if api_key:\n",
    "    print(\"✅ Success! API Key loaded successfully from .env file.\")\n",
    "    # Optional: Verify the key looks right\n",
    "    # print(f\"   Key starts with: {api_key[:5]}... and ends with: {api_key[-5:]}\")\n",
    "else:\n",
    "    print(\"❌ Error: API Key not found.\")\n",
    "    print(\"   1. Did you create the `.env` file in the 'cta' root folder?\")\n",
    "    print(\"   2. Does the `.env` file contain 'ABUSEIPDB_KEY=your-key'?\")\n",
    "    print(\"   3. Did you install 'python-dotenv' (`pip install python-dotenv`)?\")\n",
    "    print(\"   4. Did you run the `load_dotenv()` command in this cell?\")"
   ]
  },
  {
   "cell_type": "markdown",
   "id": "14f125b7",
   "metadata": {},
   "source": [
    "## Step 3: Define and Test API Check Function\n",
    "\n",
    "First, we define the `check_ip` function. This function takes an IP address and our API key, calls the AbuseIPDB `/check` endpoint using the `requests` library, handles potential errors, and returns the relevant 'data' portion of the JSON response (or `None`).\n",
    "\n",
    "Immediately after defining it, we test the function with a known potentially malicious IP (`1.2.3.4`) to ensure our API key loading, the function logic, and the connection to AbuseIPDB are all working correctly before we apply it to our actual DataFrame."
   ]
  },
  {
   "cell_type": "code",
   "execution_count": 5,
   "id": "7887e9fc",
   "metadata": {},
   "outputs": [
    {
     "name": "stdout",
     "output_type": "stream",
     "text": [
      "Checking IP: 1.2.3.4...\n",
      "\n",
      "--- API Report Received ---\n",
      "  IP Address: 1.2.3.4\n",
      "  Country: AU\n",
      "  Abuse Score: 43%\n",
      "  Total Reports: 39\n",
      "  ISP: APNIC Debogon Project\n"
     ]
    }
   ],
   "source": [
    "import os\n",
    "import requests\n",
    "import json # To pretty-print the result\n",
    "from dotenv import load_dotenv\n",
    "\n",
    "# --- 1. Load the API Key (using dotenv) ---\n",
    "load_dotenv()\n",
    "api_key = os.environ.get('ABUSEIPDB_KEY')\n",
    "\n",
    "# --- 2. Define the Function to Check an IP ---\n",
    "def check_ip(ip_address, key):\n",
    "    \"\"\"\n",
    "    Calls the AbuseIPDB API to check a given IP address.\n",
    "    Returns the JSON response from the API.\n",
    "    \"\"\"\n",
    "    if not key:\n",
    "        print(\"API Key not loaded. Cannot check IP.\")\n",
    "        return None # Return nothing if the key isn't loaded\n",
    "\n",
    "    # Define the API endpoint and parameters\n",
    "    url = 'https://api.abuseipdb.com/api/v2/check'\n",
    "    params = {\n",
    "        'ipAddress': ip_address,\n",
    "        'maxAgeInDays': '90', # How far back to look for reports\n",
    "        'verbose': True # Ask for more details if available\n",
    "    }\n",
    "    headers = {\n",
    "        'Accept': 'application/json',\n",
    "        'Key': key\n",
    "    }\n",
    "\n",
    "    print(f\"Checking IP: {ip_address}...\")\n",
    "    try:\n",
    "        response = requests.get(url=url, headers=headers, params=params)\n",
    "        response.raise_for_status() # Raise an error for bad status codes (4xx or 5xx)\n",
    "\n",
    "        # If successful, parse the JSON response\n",
    "        report = response.json()\n",
    "        return report['data'] # Return just the 'data' part of the response\n",
    "\n",
    "    except requests.exceptions.RequestException as e:\n",
    "        print(f\"  Error during API request: {e}\")\n",
    "        return None\n",
    "    except Exception as e:\n",
    "        print(f\"  An unexpected error occurred: {e}\")\n",
    "        return None\n",
    "\n",
    "# --- 3. Test the function with a known bad IP ---\n",
    "test_ip = '1.2.3.4' # A commonly reported IP for testing\n",
    "if api_key:\n",
    "    ip_data = check_ip(test_ip, api_key)\n",
    "\n",
    "    # --- 4. Print the results nicely ---\n",
    "    if ip_data:\n",
    "        print(\"\\n--- API Report Received ---\")\n",
    "        print(f\"  IP Address: {ip_data.get('ipAddress')}\")\n",
    "        print(f\"  Country: {ip_data.get('countryCode')}\")\n",
    "        print(f\"  Abuse Score: {ip_data.get('abuseConfidenceScore')}%\")\n",
    "        print(f\"  Total Reports: {ip_data.get('totalReports')}\")\n",
    "        print(f\"  ISP: {ip_data.get('isp')}\")\n",
    "        # print(\"\\nFull Report:\") # Uncomment to see everything\n",
    "        # print(json.dumps(ip_data, indent=2))\n",
    "    else:\n",
    "        print(\"\\n--- Failed to get API report ---\")\n",
    "else:\n",
    "    print(\"API Key not loaded, skipping test.\")"
   ]
  },
  {
   "cell_type": "markdown",
   "id": "7ead1b91",
   "metadata": {},
   "source": [
    "## Step 4: Extract IP Addresses from Messages\n",
    "\n",
    "Not all log messages contain IP addresses. We need a function (`extract_ip`) that uses a regex (`ip_pattern`) specifically designed to find IPv4 addresses within the `message` string. It will return the IP if found, otherwise `None`."
   ]
  },
  {
   "cell_type": "code",
   "execution_count": 6,
   "id": "3e6713f7",
   "metadata": {},
   "outputs": [],
   "source": [
    "import re\n",
    "\n",
    "def extract_ip(message):\n",
    "    \"\"\"\n",
    "    Uses regex to find the first IPv4 address in a string.\n",
    "    Returns the IP address string if found, otherwise None.\n",
    "    \"\"\"\n",
    "    # Regex pattern for an IPv4 address\n",
    "    # \\b matches word boundaries to avoid partial matches\n",
    "    # (?:\\d{1,3}\\.){3} matches three groups of (1-3 digits followed by a dot)\n",
    "    # \\d{1,3} matches the final 1-3 digits\n",
    "    ip_pattern = r'\\b(?:\\d{1,3}\\.){3}\\d{1,3}\\b'\n",
    "\n",
    "    match = re.search(ip_pattern, message) # Find the first match in the message\n",
    "\n",
    "    if match:\n",
    "        return match.group(0) # Return the matched IP string\n",
    "    else:\n",
    "        return None # Return None if no IP was found"
   ]
  },
  {
   "cell_type": "code",
   "execution_count": 7,
   "id": "0060243a",
   "metadata": {},
   "outputs": [
    {
     "name": "stdout",
     "output_type": "stream",
     "text": [
      "IP found in first message: 1.2.3.4\n",
      "IP found in second message: None\n"
     ]
    }
   ],
   "source": [
    "# Test cases\n",
    "test_message_with_ip = \"Failed login for user 'root' from IP 1.2.3.4\"\n",
    "test_message_no_ip = \"System startup complete.\"\n",
    "\n",
    "# Run the function\n",
    "found_ip = extract_ip(test_message_with_ip)\n",
    "no_ip = extract_ip(test_message_no_ip)\n",
    "\n",
    "print(f\"IP found in first message: {found_ip}\")\n",
    "print(f\"IP found in second message: {no_ip}\")"
   ]
  },
  {
   "cell_type": "markdown",
   "id": "56cdbf54",
   "metadata": {},
   "source": [
    "### Apply IP Extraction to DataFrame\n",
    "\n",
    "Now, we use the Pandas `.apply()` method to run our `extract_ip` function on every row in the `message` column, creating a new `ip_address` column in our DataFrame."
   ]
  },
  {
   "cell_type": "code",
   "execution_count": 8,
   "id": "a736b7a5",
   "metadata": {},
   "outputs": [
    {
     "name": "stdout",
     "output_type": "stream",
     "text": [
      "Created 'ip_address' column.\n"
     ]
    },
    {
     "data": {
      "text/html": [
       "<div>\n",
       "<style scoped>\n",
       "    .dataframe tbody tr th:only-of-type {\n",
       "        vertical-align: middle;\n",
       "    }\n",
       "\n",
       "    .dataframe tbody tr th {\n",
       "        vertical-align: top;\n",
       "    }\n",
       "\n",
       "    .dataframe thead th {\n",
       "        text-align: right;\n",
       "    }\n",
       "</style>\n",
       "<table border=\"1\" class=\"dataframe\">\n",
       "  <thead>\n",
       "    <tr style=\"text-align: right;\">\n",
       "      <th></th>\n",
       "      <th>timestamp</th>\n",
       "      <th>log_level</th>\n",
       "      <th>message</th>\n",
       "      <th>ip_address</th>\n",
       "    </tr>\n",
       "  </thead>\n",
       "  <tbody>\n",
       "    <tr>\n",
       "      <th>0</th>\n",
       "      <td>2023-10-27T14:01:03</td>\n",
       "      <td>INFO</td>\n",
       "      <td>System startup complete.</td>\n",
       "      <td>None</td>\n",
       "    </tr>\n",
       "    <tr>\n",
       "      <th>1</th>\n",
       "      <td>2023-10-27T14:02:15</td>\n",
       "      <td>INFO</td>\n",
       "      <td>User 'admin' logged in from 192.168.1.100</td>\n",
       "      <td>192.168.1.100</td>\n",
       "    </tr>\n",
       "    <tr>\n",
       "      <th>2</th>\n",
       "      <td>2023-10-27T14:02:45</td>\n",
       "      <td>WARNING</td>\n",
       "      <td>Disk space low on /var. 85% used.</td>\n",
       "      <td>None</td>\n",
       "    </tr>\n",
       "    <tr>\n",
       "      <th>3</th>\n",
       "      <td>2023-10-27T14:03:10</td>\n",
       "      <td>ERROR</td>\n",
       "      <td>Failed to connect to database [db-01]. IP 10.0...</td>\n",
       "      <td>10.0.0.5</td>\n",
       "    </tr>\n",
       "    <tr>\n",
       "      <th>4</th>\n",
       "      <td>2023-10-27T14:03:12</td>\n",
       "      <td>INFO</td>\n",
       "      <td>Retrying connection...</td>\n",
       "      <td>None</td>\n",
       "    </tr>\n",
       "    <tr>\n",
       "      <th>5</th>\n",
       "      <td>2023-10-27T14:03:42</td>\n",
       "      <td>ERROR</td>\n",
       "      <td>Connection to [db-01] timed out. IP 10.0.0.5</td>\n",
       "      <td>10.0.0.5</td>\n",
       "    </tr>\n",
       "    <tr>\n",
       "      <th>6</th>\n",
       "      <td>2023-10-27T14:05:01</td>\n",
       "      <td>ERROR</td>\n",
       "      <td>Failed login for user 'root' from IP 1.2.3.4</td>\n",
       "      <td>1.2.3.4</td>\n",
       "    </tr>\n",
       "    <tr>\n",
       "      <th>7</th>\n",
       "      <td>2023-10-27T14:05:02</td>\n",
       "      <td>ERROR</td>\n",
       "      <td>Failed login for user 'guest' from IP 99.88.77.66</td>\n",
       "      <td>99.88.77.66</td>\n",
       "    </tr>\n",
       "  </tbody>\n",
       "</table>\n",
       "</div>"
      ],
      "text/plain": [
       "             timestamp log_level  \\\n",
       "0  2023-10-27T14:01:03      INFO   \n",
       "1  2023-10-27T14:02:15      INFO   \n",
       "2  2023-10-27T14:02:45   WARNING   \n",
       "3  2023-10-27T14:03:10     ERROR   \n",
       "4  2023-10-27T14:03:12      INFO   \n",
       "5  2023-10-27T14:03:42     ERROR   \n",
       "6  2023-10-27T14:05:01     ERROR   \n",
       "7  2023-10-27T14:05:02     ERROR   \n",
       "\n",
       "                                             message     ip_address  \n",
       "0                           System startup complete.           None  \n",
       "1          User 'admin' logged in from 192.168.1.100  192.168.1.100  \n",
       "2                  Disk space low on /var. 85% used.           None  \n",
       "3  Failed to connect to database [db-01]. IP 10.0...       10.0.0.5  \n",
       "4                             Retrying connection...           None  \n",
       "5       Connection to [db-01] timed out. IP 10.0.0.5       10.0.0.5  \n",
       "6       Failed login for user 'root' from IP 1.2.3.4        1.2.3.4  \n",
       "7  Failed login for user 'guest' from IP 99.88.77.66    99.88.77.66  "
      ]
     },
     "execution_count": 8,
     "metadata": {},
     "output_type": "execute_result"
    }
   ],
   "source": [
    "# Create the new 'ip_address' column\n",
    "# The 'lambda x:' part passes each message ('x') into our function.\n",
    "df['ip_address'] = df['message'].apply(lambda x: extract_ip(x))\n",
    "\n",
    "print(\"Created 'ip_address' column.\")\n",
    "\n",
    "# Display the DataFrame to see the new column!\n",
    "df.head(10) # Show more rows to potentially see IPs and None values"
   ]
  },
  {
   "cell_type": "markdown",
   "id": "0ce27fa4",
   "metadata": {},
   "source": [
    "## Step 5: Enrich Data with API (Efficiently)\n",
    "\n",
    "To avoid hitting API rate limits, we first get a list of *unique* IP addresses found in our `ip_address` column (`ips_to_check`), filtering out any `None` values."
   ]
  },
  {
   "cell_type": "code",
   "execution_count": 9,
   "id": "535200b0",
   "metadata": {},
   "outputs": [
    {
     "name": "stdout",
     "output_type": "stream",
     "text": [
      "Found 4 unique IP addresses to check.\n",
      "Unique IPs: ['192.168.1.100', '10.0.0.5', '1.2.3.4', '99.88.77.66']\n"
     ]
    }
   ],
   "source": [
    "# Get all unique values from the 'ip_address' column\n",
    "unique_ips = df['ip_address'].unique()\n",
    "\n",
    "# Filter out any 'None' values (which pandas often represents as float 'nan')\n",
    "# We only want actual IP strings\n",
    "ips_to_check = [ip for ip in unique_ips if isinstance(ip, str)]\n",
    "\n",
    "# How many unique IPs do we actually need to check?\n",
    "print(f\"Found {len(ips_to_check)} unique IP addresses to check.\")\n",
    "print(\"Unique IPs:\", ips_to_check)"
   ]
  },
  {
   "cell_type": "markdown",
   "id": "b8294bef",
   "metadata": {},
   "source": [
    "### Check Unique IPs and Cache Results\n",
    "\n",
    "We loop *only* through the unique IPs, call our `check_ip` function for each, and store the results (abuse score, country) in a dictionary (`ip_report_cache`). This acts as a temporary lookup table to minimize API calls."
   ]
  },
  {
   "cell_type": "code",
   "execution_count": 10,
   "id": "f7f03590",
   "metadata": {},
   "outputs": [
    {
     "name": "stdout",
     "output_type": "stream",
     "text": [
      "--- Starting API checks for unique IPs ---\n",
      "Checking 192.168.1.100...\n",
      "Checking IP: 192.168.1.100...\n",
      "Checking 10.0.0.5...\n",
      "Checking IP: 10.0.0.5...\n",
      "Checking 1.2.3.4...\n",
      "Checking IP: 1.2.3.4...\n",
      "Checking 99.88.77.66...\n",
      "Checking IP: 99.88.77.66...\n",
      "--- Finished API checks ---\n",
      "\n",
      "IP Report Cache:\n",
      "{'192.168.1.100': {'score': 0, 'country': None}, '10.0.0.5': {'score': 0, 'country': None}, '1.2.3.4': {'score': 43, 'country': 'AU'}, '99.88.77.66': {'score': 0, 'country': 'US'}}\n"
     ]
    }
   ],
   "source": [
    "# Make sure your API key is loaded (run this if you restarted the notebook)\n",
    "from dotenv import load_dotenv\n",
    "import os\n",
    "load_dotenv()\n",
    "api_key = os.environ.get('ABUSEIPDB_KEY')\n",
    "\n",
    "# Dictionary to store the results: {ip: {'score': score, 'country': country}, ...}\n",
    "ip_report_cache = {}\n",
    "\n",
    "if api_key:\n",
    "    print(\"--- Starting API checks for unique IPs ---\")\n",
    "    # Loop through only the unique IPs found\n",
    "    for ip in ips_to_check:\n",
    "        print(f\"Checking {ip}...\")\n",
    "        report_data = check_ip(ip, api_key) # Call the function we wrote earlier\n",
    "\n",
    "        if report_data:\n",
    "            # Store the relevant info (score and country) in our cache\n",
    "            ip_report_cache[ip] = {\n",
    "                'score': report_data.get('abuseConfidenceScore'),\n",
    "                'country': report_data.get('countryCode')\n",
    "                # Add any other fields you want here! e.g., 'isp': report_data.get('isp')\n",
    "            }\n",
    "        else:\n",
    "            # Handle cases where the API might fail for a specific IP\n",
    "            ip_report_cache[ip] = {'score': None, 'country': None}\n",
    "            print(f\"  -> Failed to get report for {ip}\")\n",
    "\n",
    "    print(\"--- Finished API checks ---\")\n",
    "    print(\"\\nIP Report Cache:\")\n",
    "    print(ip_report_cache)\n",
    "\n",
    "else:\n",
    "    print(\"API Key not found. Cannot perform checks.\")"
   ]
  },
  {
   "cell_type": "markdown",
   "id": "506e4ab3",
   "metadata": {},
   "source": [
    "### Map API Results Back to DataFrame\n",
    "\n",
    "Using the `ip_report_cache`, we create the new `abuse_score` and `country` columns in the main DataFrame. The `.map()` function efficiently looks up each row's `ip_address` in our cache and adds the corresponding score and country. Rows without an IP will get `NaN` or `None`."
   ]
  },
  {
   "cell_type": "code",
   "execution_count": 11,
   "id": "3a9b9735",
   "metadata": {},
   "outputs": [
    {
     "name": "stdout",
     "output_type": "stream",
     "text": [
      "Added 'abuse_score' and 'country' columns to the DataFrame.\n"
     ]
    },
    {
     "data": {
      "text/html": [
       "<div>\n",
       "<style scoped>\n",
       "    .dataframe tbody tr th:only-of-type {\n",
       "        vertical-align: middle;\n",
       "    }\n",
       "\n",
       "    .dataframe tbody tr th {\n",
       "        vertical-align: top;\n",
       "    }\n",
       "\n",
       "    .dataframe thead th {\n",
       "        text-align: right;\n",
       "    }\n",
       "</style>\n",
       "<table border=\"1\" class=\"dataframe\">\n",
       "  <thead>\n",
       "    <tr style=\"text-align: right;\">\n",
       "      <th></th>\n",
       "      <th>timestamp</th>\n",
       "      <th>log_level</th>\n",
       "      <th>message</th>\n",
       "      <th>ip_address</th>\n",
       "      <th>abuse_score</th>\n",
       "      <th>country</th>\n",
       "    </tr>\n",
       "  </thead>\n",
       "  <tbody>\n",
       "    <tr>\n",
       "      <th>0</th>\n",
       "      <td>2023-10-27T14:01:03</td>\n",
       "      <td>INFO</td>\n",
       "      <td>System startup complete.</td>\n",
       "      <td>None</td>\n",
       "      <td>NaN</td>\n",
       "      <td>None</td>\n",
       "    </tr>\n",
       "    <tr>\n",
       "      <th>1</th>\n",
       "      <td>2023-10-27T14:02:15</td>\n",
       "      <td>INFO</td>\n",
       "      <td>User 'admin' logged in from 192.168.1.100</td>\n",
       "      <td>192.168.1.100</td>\n",
       "      <td>0.0</td>\n",
       "      <td>None</td>\n",
       "    </tr>\n",
       "    <tr>\n",
       "      <th>2</th>\n",
       "      <td>2023-10-27T14:02:45</td>\n",
       "      <td>WARNING</td>\n",
       "      <td>Disk space low on /var. 85% used.</td>\n",
       "      <td>None</td>\n",
       "      <td>NaN</td>\n",
       "      <td>None</td>\n",
       "    </tr>\n",
       "    <tr>\n",
       "      <th>3</th>\n",
       "      <td>2023-10-27T14:03:10</td>\n",
       "      <td>ERROR</td>\n",
       "      <td>Failed to connect to database [db-01]. IP 10.0...</td>\n",
       "      <td>10.0.0.5</td>\n",
       "      <td>0.0</td>\n",
       "      <td>None</td>\n",
       "    </tr>\n",
       "    <tr>\n",
       "      <th>4</th>\n",
       "      <td>2023-10-27T14:03:12</td>\n",
       "      <td>INFO</td>\n",
       "      <td>Retrying connection...</td>\n",
       "      <td>None</td>\n",
       "      <td>NaN</td>\n",
       "      <td>None</td>\n",
       "    </tr>\n",
       "    <tr>\n",
       "      <th>5</th>\n",
       "      <td>2023-10-27T14:03:42</td>\n",
       "      <td>ERROR</td>\n",
       "      <td>Connection to [db-01] timed out. IP 10.0.0.5</td>\n",
       "      <td>10.0.0.5</td>\n",
       "      <td>0.0</td>\n",
       "      <td>None</td>\n",
       "    </tr>\n",
       "    <tr>\n",
       "      <th>6</th>\n",
       "      <td>2023-10-27T14:05:01</td>\n",
       "      <td>ERROR</td>\n",
       "      <td>Failed login for user 'root' from IP 1.2.3.4</td>\n",
       "      <td>1.2.3.4</td>\n",
       "      <td>43.0</td>\n",
       "      <td>AU</td>\n",
       "    </tr>\n",
       "    <tr>\n",
       "      <th>7</th>\n",
       "      <td>2023-10-27T14:05:02</td>\n",
       "      <td>ERROR</td>\n",
       "      <td>Failed login for user 'guest' from IP 99.88.77.66</td>\n",
       "      <td>99.88.77.66</td>\n",
       "      <td>0.0</td>\n",
       "      <td>US</td>\n",
       "    </tr>\n",
       "  </tbody>\n",
       "</table>\n",
       "</div>"
      ],
      "text/plain": [
       "             timestamp log_level  \\\n",
       "0  2023-10-27T14:01:03      INFO   \n",
       "1  2023-10-27T14:02:15      INFO   \n",
       "2  2023-10-27T14:02:45   WARNING   \n",
       "3  2023-10-27T14:03:10     ERROR   \n",
       "4  2023-10-27T14:03:12      INFO   \n",
       "5  2023-10-27T14:03:42     ERROR   \n",
       "6  2023-10-27T14:05:01     ERROR   \n",
       "7  2023-10-27T14:05:02     ERROR   \n",
       "\n",
       "                                             message     ip_address  \\\n",
       "0                           System startup complete.           None   \n",
       "1          User 'admin' logged in from 192.168.1.100  192.168.1.100   \n",
       "2                  Disk space low on /var. 85% used.           None   \n",
       "3  Failed to connect to database [db-01]. IP 10.0...       10.0.0.5   \n",
       "4                             Retrying connection...           None   \n",
       "5       Connection to [db-01] timed out. IP 10.0.0.5       10.0.0.5   \n",
       "6       Failed login for user 'root' from IP 1.2.3.4        1.2.3.4   \n",
       "7  Failed login for user 'guest' from IP 99.88.77.66    99.88.77.66   \n",
       "\n",
       "   abuse_score country  \n",
       "0          NaN    None  \n",
       "1          0.0    None  \n",
       "2          NaN    None  \n",
       "3          0.0    None  \n",
       "4          NaN    None  \n",
       "5          0.0    None  \n",
       "6         43.0      AU  \n",
       "7          0.0      US  "
      ]
     },
     "execution_count": 11,
     "metadata": {},
     "output_type": "execute_result"
    }
   ],
   "source": [
    "# Use the .map() method - it's like a VLOOKUP in Excel\n",
    "# For each IP in 'ip_address', it looks up that IP in our cache\n",
    "# and then retrieves the 'score' value from the nested dictionary.\n",
    "df['abuse_score'] = df['ip_address'].map(lambda ip: ip_report_cache.get(ip, {}).get('score'))\n",
    "\n",
    "# Do the same for the country code\n",
    "df['country'] = df['ip_address'].map(lambda ip: ip_report_cache.get(ip, {}).get('country'))\n",
    "\n",
    "print(\"Added 'abuse_score' and 'country' columns to the DataFrame.\")\n",
    "\n",
    "# Let's see the final enriched DataFrame!\n",
    "df.head(10)"
   ]
  },
  {
   "cell_type": "markdown",
   "id": "bf60b02a",
   "metadata": {},
   "source": [
    "## Step 6: Clean Timestamp Data\n",
    "\n",
    "The `timestamp` column is currently text (`object`). We convert it to a proper `datetime` object using `pd.to_datetime()` so Pandas understands it as time data. We verify the conversion using `df.info()`."
   ]
  },
  {
   "cell_type": "code",
   "execution_count": 12,
   "id": "245353db",
   "metadata": {},
   "outputs": [
    {
     "name": "stdout",
     "output_type": "stream",
     "text": [
      "DataFrame info after converting timestamp:\n",
      "<class 'pandas.core.frame.DataFrame'>\n",
      "RangeIndex: 8 entries, 0 to 7\n",
      "Data columns (total 6 columns):\n",
      " #   Column       Non-Null Count  Dtype         \n",
      "---  ------       --------------  -----         \n",
      " 0   timestamp    8 non-null      datetime64[ns]\n",
      " 1   log_level    8 non-null      object        \n",
      " 2   message      8 non-null      object        \n",
      " 3   ip_address   5 non-null      object        \n",
      " 4   abuse_score  5 non-null      float64       \n",
      " 5   country      2 non-null      object        \n",
      "dtypes: datetime64[ns](1), float64(1), object(4)\n",
      "memory usage: 512.0+ bytes\n"
     ]
    }
   ],
   "source": [
    "# Convert the 'timestamp' column from text strings to datetime objects\n",
    "df['timestamp'] = pd.to_datetime(df['timestamp'])\n",
    "\n",
    "# Check the data types of our columns to confirm the change\n",
    "print(\"DataFrame info after converting timestamp:\")\n",
    "df.info()"
   ]
  },
  {
   "cell_type": "markdown",
   "id": "a243e8ea",
   "metadata": {},
   "source": [
    "### Extract Hour of Day Feature\n",
    "\n",
    "Now that `timestamp` is a datetime object, we can easily extract time components. We use the `.dt.hour` accessor to create a new `hour_of_day` column, which might be a useful feature for our model later. We display `df.head()` again to see the result."
   ]
  },
  {
   "cell_type": "code",
   "execution_count": 13,
   "id": "c9e88202",
   "metadata": {},
   "outputs": [
    {
     "name": "stdout",
     "output_type": "stream",
     "text": [
      "Added 'hour_of_day' column.\n"
     ]
    },
    {
     "data": {
      "text/html": [
       "<div>\n",
       "<style scoped>\n",
       "    .dataframe tbody tr th:only-of-type {\n",
       "        vertical-align: middle;\n",
       "    }\n",
       "\n",
       "    .dataframe tbody tr th {\n",
       "        vertical-align: top;\n",
       "    }\n",
       "\n",
       "    .dataframe thead th {\n",
       "        text-align: right;\n",
       "    }\n",
       "</style>\n",
       "<table border=\"1\" class=\"dataframe\">\n",
       "  <thead>\n",
       "    <tr style=\"text-align: right;\">\n",
       "      <th></th>\n",
       "      <th>timestamp</th>\n",
       "      <th>log_level</th>\n",
       "      <th>message</th>\n",
       "      <th>ip_address</th>\n",
       "      <th>abuse_score</th>\n",
       "      <th>country</th>\n",
       "      <th>hour_of_day</th>\n",
       "    </tr>\n",
       "  </thead>\n",
       "  <tbody>\n",
       "    <tr>\n",
       "      <th>0</th>\n",
       "      <td>2023-10-27 14:01:03</td>\n",
       "      <td>INFO</td>\n",
       "      <td>System startup complete.</td>\n",
       "      <td>None</td>\n",
       "      <td>NaN</td>\n",
       "      <td>None</td>\n",
       "      <td>14</td>\n",
       "    </tr>\n",
       "    <tr>\n",
       "      <th>1</th>\n",
       "      <td>2023-10-27 14:02:15</td>\n",
       "      <td>INFO</td>\n",
       "      <td>User 'admin' logged in from 192.168.1.100</td>\n",
       "      <td>192.168.1.100</td>\n",
       "      <td>0.0</td>\n",
       "      <td>None</td>\n",
       "      <td>14</td>\n",
       "    </tr>\n",
       "    <tr>\n",
       "      <th>2</th>\n",
       "      <td>2023-10-27 14:02:45</td>\n",
       "      <td>WARNING</td>\n",
       "      <td>Disk space low on /var. 85% used.</td>\n",
       "      <td>None</td>\n",
       "      <td>NaN</td>\n",
       "      <td>None</td>\n",
       "      <td>14</td>\n",
       "    </tr>\n",
       "    <tr>\n",
       "      <th>3</th>\n",
       "      <td>2023-10-27 14:03:10</td>\n",
       "      <td>ERROR</td>\n",
       "      <td>Failed to connect to database [db-01]. IP 10.0...</td>\n",
       "      <td>10.0.0.5</td>\n",
       "      <td>0.0</td>\n",
       "      <td>None</td>\n",
       "      <td>14</td>\n",
       "    </tr>\n",
       "    <tr>\n",
       "      <th>4</th>\n",
       "      <td>2023-10-27 14:03:12</td>\n",
       "      <td>INFO</td>\n",
       "      <td>Retrying connection...</td>\n",
       "      <td>None</td>\n",
       "      <td>NaN</td>\n",
       "      <td>None</td>\n",
       "      <td>14</td>\n",
       "    </tr>\n",
       "  </tbody>\n",
       "</table>\n",
       "</div>"
      ],
      "text/plain": [
       "            timestamp log_level  \\\n",
       "0 2023-10-27 14:01:03      INFO   \n",
       "1 2023-10-27 14:02:15      INFO   \n",
       "2 2023-10-27 14:02:45   WARNING   \n",
       "3 2023-10-27 14:03:10     ERROR   \n",
       "4 2023-10-27 14:03:12      INFO   \n",
       "\n",
       "                                             message     ip_address  \\\n",
       "0                           System startup complete.           None   \n",
       "1          User 'admin' logged in from 192.168.1.100  192.168.1.100   \n",
       "2                  Disk space low on /var. 85% used.           None   \n",
       "3  Failed to connect to database [db-01]. IP 10.0...       10.0.0.5   \n",
       "4                             Retrying connection...           None   \n",
       "\n",
       "   abuse_score country  hour_of_day  \n",
       "0          NaN    None           14  \n",
       "1          0.0    None           14  \n",
       "2          NaN    None           14  \n",
       "3          0.0    None           14  \n",
       "4          NaN    None           14  "
      ]
     },
     "execution_count": 13,
     "metadata": {},
     "output_type": "execute_result"
    }
   ],
   "source": [
    "# Create a new column 'hour_of_day' by extracting the hour (0-23)\n",
    "# The '.dt' accessor only works on datetime columns\n",
    "df['hour_of_day'] = df['timestamp'].dt.hour\n",
    "\n",
    "print(\"Added 'hour_of_day' column.\")\n",
    "\n",
    "# Let's see the DataFrame with the new hour column\n",
    "df.head()"
   ]
  },
  {
   "cell_type": "code",
   "execution_count": null,
   "id": "e332c7d2",
   "metadata": {},
   "outputs": [],
   "source": []
  }
 ],
 "metadata": {
  "kernelspec": {
   "display_name": "cta_env",
   "language": "python",
   "name": "python3"
  },
  "language_info": {
   "codemirror_mode": {
    "name": "ipython",
    "version": 3
   },
   "file_extension": ".py",
   "mimetype": "text/x-python",
   "name": "python",
   "nbconvert_exporter": "python",
   "pygments_lexer": "ipython3",
   "version": "3.10.19"
  }
 },
 "nbformat": 4,
 "nbformat_minor": 5
}
