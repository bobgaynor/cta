{
 "cells": [
  {
   "cell_type": "markdown",
   "id": "15cdbbba",
   "metadata": {},
   "source": [
    "# Cyber Threat Analyzer (CTA) - Part 1: Parsing\n",
    "\n",
    "This notebook details the process of ingesting and parsing a raw, unstructured system log into a clean Pandas DataFrame."
   ]
  },
  {
   "cell_type": "code",
   "execution_count": 1,
   "id": "422ad069",
   "metadata": {},
   "outputs": [
    {
     "name": "stdout",
     "output_type": "stream",
     "text": [
      "Import Complete\n"
     ]
    }
   ],
   "source": [
    "import pandas as pd\n",
    "from pathlib import Path\n",
    "import re\n",
    "\n",
    "print(\"Import Complete\")"
   ]
  },
  {
   "cell_type": "markdown",
   "id": "2fc1da6f",
   "metadata": {},
   "source": [
    "## Step 1: Parsing the Log File\n",
    "\n",
    "The log files have a custom format: TIMESTAMP [LOG_LEVEL] MESSAGE. A simple pd.read_csv won't work. We need to build a custom Regular Expression (regex) to match this pattern and extract the three key pieces of information."
   ]
  },
  {
   "cell_type": "code",
   "execution_count": 2,
   "id": "eee33fd2",
   "metadata": {},
   "outputs": [
    {
     "name": "stdout",
     "output_type": "stream",
     "text": [
      "--- CTA Parser finished. Found 8 log entries. ---\n"
     ]
    }
   ],
   "source": [
    "# Define the 'regex' for a single log line telling Python *exactly* what pattern to look for.\n",
    "#\n",
    "#    ^         # Start of the line\n",
    "#    (\\S+)     # Capture Group 1: One or more non-space characters (the timestamp)\n",
    "#    \\s+       # Match one or more spaces (the gap after the timestamp)\n",
    "#    \\[        # Match a literal opening bracket '['\n",
    "#    (\\w+)     # Capture Group 2: One or more \"word\" characters (the log level)\n",
    "#    \\]        # Match a literal closing bracket ']'\n",
    "#    \\s+       # Match one or more spaces (the gap after the log level)\n",
    "#    (.*)      # Capture Group 3: \"Capture everything else\" (the message)\n",
    "#    $         # End of the line\n",
    "#\n",
    "log_pattern = re.compile(r'^(\\S+)\\s+\\[(\\w+)\\]\\s+(.*)$')\n",
    "\n",
    "# Define the path to the log file using the 'pathlib' library.\n",
    "log_file_path = Path.cwd().parent / \"data\" / \"system.log\"\n",
    "\n",
    "# Create empty list to store structured data\n",
    "data = []\n",
    "\n",
    "# Open the log file and loop through it, line by line\n",
    "with open(log_file_path, 'r') as f:\n",
    "    for line in f:\n",
    "        # Try to match regex \"formula\" to the current line\n",
    "        match = log_pattern.match(line)\n",
    "        \n",
    "        # If the line matched our pattern, extract the captured groups\n",
    "        if match:\n",
    "            data.append({\n",
    "                'timestamp': match.group(1),\n",
    "                'log_level': match.group(2),\n",
    "                'message': match.group(3).strip()\n",
    "            })\n",
    "\n",
    "# Create Pandas DataFrame from the list of dictionaries\n",
    "df = pd.DataFrame(data)\n",
    "\n",
    "print(f\"--- CTA Parser finished. Found {len(data)} log entries. ---\")"
   ]
  },
  {
   "cell_type": "markdown",
   "id": "3a5aa289",
   "metadata": {},
   "source": [
    "## Step 2: Verify the DataFrame\n",
    "\n",
    "Let's use df.head() to check the first 5 rows and confirm the parser worked as expected."
   ]
  },
  {
   "cell_type": "code",
   "execution_count": 3,
   "id": "3474cbfb",
   "metadata": {},
   "outputs": [
    {
     "data": {
      "text/html": [
       "<div>\n",
       "<style scoped>\n",
       "    .dataframe tbody tr th:only-of-type {\n",
       "        vertical-align: middle;\n",
       "    }\n",
       "\n",
       "    .dataframe tbody tr th {\n",
       "        vertical-align: top;\n",
       "    }\n",
       "\n",
       "    .dataframe thead th {\n",
       "        text-align: right;\n",
       "    }\n",
       "</style>\n",
       "<table border=\"1\" class=\"dataframe\">\n",
       "  <thead>\n",
       "    <tr style=\"text-align: right;\">\n",
       "      <th></th>\n",
       "      <th>timestamp</th>\n",
       "      <th>log_level</th>\n",
       "      <th>message</th>\n",
       "    </tr>\n",
       "  </thead>\n",
       "  <tbody>\n",
       "    <tr>\n",
       "      <th>0</th>\n",
       "      <td>2023-10-27T14:01:03</td>\n",
       "      <td>INFO</td>\n",
       "      <td>System startup complete.</td>\n",
       "    </tr>\n",
       "    <tr>\n",
       "      <th>1</th>\n",
       "      <td>2023-10-27T14:02:15</td>\n",
       "      <td>INFO</td>\n",
       "      <td>User 'admin' logged in from 192.168.1.100</td>\n",
       "    </tr>\n",
       "    <tr>\n",
       "      <th>2</th>\n",
       "      <td>2023-10-27T14:02:45</td>\n",
       "      <td>WARNING</td>\n",
       "      <td>Disk space low on /var. 85% used.</td>\n",
       "    </tr>\n",
       "    <tr>\n",
       "      <th>3</th>\n",
       "      <td>2023-10-27T14:03:10</td>\n",
       "      <td>ERROR</td>\n",
       "      <td>Failed to connect to database [db-01]. IP 10.0...</td>\n",
       "    </tr>\n",
       "    <tr>\n",
       "      <th>4</th>\n",
       "      <td>2023-10-27T14:03:12</td>\n",
       "      <td>INFO</td>\n",
       "      <td>Retrying connection...</td>\n",
       "    </tr>\n",
       "  </tbody>\n",
       "</table>\n",
       "</div>"
      ],
      "text/plain": [
       "             timestamp log_level  \\\n",
       "0  2023-10-27T14:01:03      INFO   \n",
       "1  2023-10-27T14:02:15      INFO   \n",
       "2  2023-10-27T14:02:45   WARNING   \n",
       "3  2023-10-27T14:03:10     ERROR   \n",
       "4  2023-10-27T14:03:12      INFO   \n",
       "\n",
       "                                             message  \n",
       "0                           System startup complete.  \n",
       "1          User 'admin' logged in from 192.168.1.100  \n",
       "2                  Disk space low on /var. 85% used.  \n",
       "3  Failed to connect to database [db-01]. IP 10.0...  \n",
       "4                             Retrying connection...  "
      ]
     },
     "execution_count": 3,
     "metadata": {},
     "output_type": "execute_result"
    }
   ],
   "source": [
    "df.head()"
   ]
  },
  {
   "cell_type": "markdown",
   "id": "12022f32",
   "metadata": {},
   "source": [
    "## Next Steps\n",
    "\n",
    "Now that we have clean data, the next step is to enrich it by calling the AbuseIPDB API..."
   ]
  }
 ],
 "metadata": {
  "kernelspec": {
   "display_name": "cta_env",
   "language": "python",
   "name": "python3"
  },
  "language_info": {
   "codemirror_mode": {
    "name": "ipython",
    "version": 3
   },
   "file_extension": ".py",
   "mimetype": "text/x-python",
   "name": "python",
   "nbconvert_exporter": "python",
   "pygments_lexer": "ipython3",
   "version": "3.10.19"
  }
 },
 "nbformat": 4,
 "nbformat_minor": 5
}
